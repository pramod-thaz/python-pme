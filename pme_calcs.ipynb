{
 "metadata": {
  "language_info": {
   "codemirror_mode": {
    "name": "ipython",
    "version": 3
   },
   "file_extension": ".py",
   "mimetype": "text/x-python",
   "name": "python",
   "nbconvert_exporter": "python",
   "pygments_lexer": "ipython3",
   "version": "3.8.5-final"
  },
  "orig_nbformat": 2,
  "kernelspec": {
   "name": "python3",
   "display_name": "Python 3"
  }
 },
 "nbformat": 4,
 "nbformat_minor": 2,
 "cells": [
  {
   "cell_type": "code",
   "execution_count": 1,
   "metadata": {},
   "outputs": [],
   "source": [
    "import pandas as pd\n",
    "from pme import pme_calc"
   ]
  },
  {
   "source": [
    "## Load dataframes for CF, NAV and BENCH INDEX\n"
   ],
   "cell_type": "markdown",
   "metadata": {}
  },
  {
   "cell_type": "code",
   "execution_count": 6,
   "metadata": {},
   "outputs": [],
   "source": [
    "cf_df = pd.read_csv('fund_cash_flows.csv')\n",
    "cf_df['effective_date'] = pd.to_datetime(cf_df['effective_date'],format=\"%m/%d/%Y\")\n",
    "\n",
    "nav_df = pd.read_csv('fund_nav.csv')\n",
    "nav_df['effective_date'] = pd.to_datetime(nav_df['effective_date'],format=\"%m/%d/%Y\")\n",
    "\n",
    "bench = pd.read_csv('bench_odce.csv')\n",
    "bench['Period'] = pd.to_datetime(bench['Period'],format=\"%m/%d/%Y\")\n",
    "\n"
   ]
  },
  {
   "source": [
    "## Create a dataframe with datetime index that has columns for cash flows, nav and benchmark index"
   ],
   "cell_type": "markdown",
   "metadata": {}
  },
  {
   "cell_type": "code",
   "execution_count": 7,
   "metadata": {},
   "outputs": [],
   "source": [
    "merge_df = pd.merge_ordered(\n",
    "            nav_df[['pm_fund_id', 'effective_date', 'nav']],\n",
    "            cf_df[['pm_fund_id', 'effective_date', 'cash_flow']],\n",
    "            left_by=\"pm_fund_id\"\n",
    "        )\n",
    "merge_df = (merge_df.loc[merge_df.effective_date <= '6/30/2020']\n",
    "                .fillna(0)\n",
    "                .sort_values('effective_date')\n",
    "                .set_index('effective_date')\n",
    "            )     \n",
    "\n",
    "\n",
    "bench = bench[['Period', 'net_ret']].set_index('Period')\n",
    "bench['bench'] = (1 + bench['net_ret']).cumprod()\n",
    "\n",
    "#reindex bench to a daily index and interpolate so as to align the dates for cash flows\n",
    "daily = pd.date_range(start = bench.index.min(), end = bench.index.max(), freq='D')\n",
    "bench_daily = (bench[['bench']]\n",
    " .reindex(bench.index.union(daily))\n",
    " .interpolate(method='time')\n",
    " .reindex(daily)\n",
    ")\n",
    "\n",
    "\n",
    "merge_df = merge_df.join(bench_daily)\n"
   ]
  },
  {
   "cell_type": "code",
   "execution_count": 4,
   "metadata": {},
   "outputs": [
    {
     "output_type": "execute_result",
     "data": {
      "text/plain": [
       "{'irr': 0.09142615591881624,\n",
       " 'tvpi': 1.320617960247663,\n",
       " 'dpi': 0.2812078956013365,\n",
       " 'dva': 83433438.35264146,\n",
       " 'pme': 1.0871229530151707,\n",
       " 'alpha': 0.02562145499793393,\n",
       " 'bench_irr': 0.06381742798802459}"
      ]
     },
     "metadata": {},
     "execution_count": 4
    }
   ],
   "source": [
    "pme_calc(merge_df, '6/30/20')"
   ]
  },
  {
   "cell_type": "code",
   "execution_count": null,
   "metadata": {},
   "outputs": [],
   "source": []
  }
 ]
}